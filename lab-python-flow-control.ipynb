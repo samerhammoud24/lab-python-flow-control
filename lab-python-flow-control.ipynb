{
 "cells": [
  {
   "cell_type": "markdown",
   "id": "d3bfc191-8885-42ee-b0a0-bbab867c6f9f",
   "metadata": {
    "tags": []
   },
   "source": [
    "# Lab | Flow Control"
   ]
  },
  {
   "cell_type": "markdown",
   "id": "3851fcd1-cf98-4653-9c89-e003b7ec9400",
   "metadata": {},
   "source": [
    "## Exercise: Managing Customer Orders Optimized\n",
    "\n",
    "In the last lab, you were starting an online store that sells various products. To ensure smooth operations, you developed a program that manages customer orders and inventory.\n",
    "\n",
    "You did so without using flow control. Let's go a step further and improve this code.\n",
    "\n",
    "Follow the steps below to complete the exercise:\n",
    "\n",
    "1. Look at your code from the lab data structures, and improve repeated code with loops.\n",
    "\n",
    "2. Instead of asking the user to input the name of three products that a customer wants to order, do the following:\n",
    "    \n",
    "    a. Prompt the user to enter the name of a product that a customer wants to order.\n",
    "    \n",
    "    b. Add the product name to the \"customer_orders\" set.\n",
    "    \n",
    "    c. Ask the user if they want to add another product (yes/no).\n",
    "    \n",
    "    d. Continue the loop until the user does not want to add another product.\n",
    "\n",
    "3. Instead of updating the inventory by subtracting 1 from the quantity of each product, only do it for  the products that were ordered (those in \"customer_orders\")."
   ]
  },
  {
   "cell_type": "code",
   "execution_count": 5,
   "id": "0d1a3479",
   "metadata": {},
   "outputs": [
    {
     "name": "stdout",
     "output_type": "stream",
     "text": [
      " Enter quantity of available inventory : 2\n",
      " Enter quantity of available inventory : 3\n",
      " Enter quantity of available inventory : 4\n",
      " Enter quantity of available inventory : 5\n",
      " Enter quantity of available inventory : 6\n",
      "{'t-shirt': 2, 'mug': 3, 'hat': 4, 'book': 5, 'keychain': 6}\n"
     ]
    }
   ],
   "source": [
    "products= [\"t-shirt\", \"mug\", \"hat\", \"book\", \"keychain\"]\n",
    "inventory={} \n",
    "for product in products: \n",
    "    quantity=int(input(\" Enter quantity of available inventory : \"))\n",
    "    inventory[product] = quantity \n",
    "print(inventory)"
   ]
  },
  {
   "cell_type": "code",
   "execution_count": 17,
   "id": "d1c0cae8",
   "metadata": {},
   "outputs": [
    {
     "name": "stdout",
     "output_type": "stream",
     "text": [
      "Enter the name of the product you want to order: t-shirt\n",
      "Do you want to add another product? yes/no: yes\n",
      "Enter the name of the product you want to order: book\n",
      "Do you want to add another product? yes/no: yes\n",
      "Enter the name of the product you want to order: keychain\n",
      "Do you want to add another product? yes/no: no\n",
      "Thank you for your order!\n",
      "{'t-shirt', 'keychain', 'book'}\n"
     ]
    }
   ],
   "source": [
    "customer_orders=set()\n",
    "while True:\n",
    "    product_order = input(\"Enter the name of the product you want to order: \")\n",
    "    if product_order in products:\n",
    "        customer_orders.add(product_order)\n",
    "        new_question = input(\"Do you want to add another product? yes/no: \")\n",
    "        if new_question == \"no\":\n",
    "            break\n",
    "    else:\n",
    "        print(\"Product not found. Please try again.\")\n",
    "\n",
    "print(\"Thank you for your order!\")\n",
    "print(customer_orders)"
   ]
  },
  {
   "cell_type": "code",
   "execution_count": 30,
   "id": "7cafd5a0",
   "metadata": {},
   "outputs": [
    {
     "name": "stdout",
     "output_type": "stream",
     "text": [
      "t-shirt: 1\n",
      "mug: 3\n",
      "hat: 4\n",
      "book: 4\n",
      "keychain: 5\n"
     ]
    }
   ],
   "source": [
    "for key, value in inventory.items():\n",
    "    if key in customer_orders:\n",
    "        print(f\"{key}: {value - 1}\")\n",
    "    else:\n",
    "        print(f\"{key}: {value}\")"
   ]
  }
 ],
 "metadata": {
  "kernelspec": {
   "display_name": "Python 3",
   "language": "python",
   "name": "python3"
  },
  "language_info": {
   "codemirror_mode": {
    "name": "ipython",
    "version": 3
   },
   "file_extension": ".py",
   "mimetype": "text/x-python",
   "name": "python",
   "nbconvert_exporter": "python",
   "pygments_lexer": "ipython3",
   "version": "3.8.8"
  }
 },
 "nbformat": 4,
 "nbformat_minor": 5
}
